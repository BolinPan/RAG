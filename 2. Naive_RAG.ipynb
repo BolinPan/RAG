{
 "cells": [
  {
   "cell_type": "markdown",
   "id": "5b5ee9d0",
   "metadata": {},
   "source": [
    "# Naive RAG (Retrieval-Augmented Generation) Demo\n",
    "\n",
    "This notebook provides a compact, step-by-step demonstration of a naive RAG pipeline for educational and testing purposes.\n",
    "It shows how to: load web content, split it into chunks, compute embeddings, store/retrieve vectors with Chroma, and run a small prompt + LLM chain to answer questions using retrieved context.\n",
    "\n",
    "## What you'll find here\n",
    "- A tiny embedding similarity example (compute embeddings and cosine similarity).\n",
    "- A web loader example that fetches an article and splits it into chunks.\n",
    "- Building a Chroma vector store from embeddings and retrieving relevant chunks.\n",
    "- A simple prompt template and a ChatOpenAI LLM invocation to answer a question using the retrieved context.\n",
    "\n",
    "## Quick tips\n",
    "- Adjust `chunk_size`/`chunk_overlap` for your dataset and token limits.\n",
    "- This notebook is intentionally simple — for production usage add error handling, batching, and caching.\n"
   ]
  },
  {
   "cell_type": "code",
   "execution_count": null,
   "id": "ffde36b3",
   "metadata": {},
   "outputs": [
    {
     "name": "stderr",
     "output_type": "stream",
     "text": [
      "USER_AGENT environment variable not set, consider setting it to identify your requests.\n"
     ]
    }
   ],
   "source": [
    "from langchain import hub  \n",
    "from langchain.text_splitter import RecursiveCharacterTextSplitter  \n",
    "from langchain_community.document_loaders import WebBaseLoader  \n",
    "from langchain_community.vectorstores import Chroma  \n",
    "from langchain_core.output_parsers import StrOutputParser  \n",
    "from langchain_core.runnables import RunnablePassthrough  \n",
    "from langchain_openai import ChatOpenAI, OpenAIEmbeddings\n",
    "from langchain.prompts import ChatPromptTemplate\n",
    "import numpy as np\n",
    "import yaml\n",
    "import bs4  \n",
    "import os"
   ]
  },
  {
   "cell_type": "code",
   "execution_count": 2,
   "id": "6320ce2f",
   "metadata": {},
   "outputs": [],
   "source": [
    "# Load credential from config file\n",
    "with open('configs/config.yaml', 'r') as file:\n",
    "    config = yaml.safe_load(file)\n",
    "\n",
    "# Set environment variables\n",
    "os.environ['LANGCHAIN_TRACING_V2'] = 'true'\n",
    "os.environ['LANGCHAIN_ENDPOINT'] = 'https://api.smith.langchain.com'\n",
    "os.environ['LANGCHAIN_API_KEY'] = config['API']['LANGCHAIN']\n",
    "os.environ['OPENAI_API_KEY'] = config['API']['OPENAI']"
   ]
  },
  {
   "cell_type": "code",
   "execution_count": 3,
   "id": "26fd82fb",
   "metadata": {},
   "outputs": [],
   "source": [
    "# Example question and small document for naive similarity demo\n",
    "question = \"What kinds of pets do I like?\"  # user query\n",
    "document = \"My favorite pet is a cat.\"      # small text to compare against the query"
   ]
  },
  {
   "cell_type": "code",
   "execution_count": 4,
   "id": "e0ebc0af",
   "metadata": {},
   "outputs": [
    {
     "data": {
      "text/plain": [
       "1536"
      ]
     },
     "execution_count": 4,
     "metadata": {},
     "output_type": "execute_result"
    }
   ],
   "source": [
    "# Create an embeddings client and create embeddings for the query and document\n",
    "embd = OpenAIEmbeddings()  # OpenAI-based embeddings wrapper\n",
    "query_result = embd.embed_query(question)  # embedding vector for the question\n",
    "document_result = embd.embed_query(document)  # embedding vector for the document\n",
    "len(query_result)  # display length of the resulting vector"
   ]
  },
  {
   "cell_type": "code",
   "execution_count": 5,
   "id": "c78da52d",
   "metadata": {},
   "outputs": [
    {
     "name": "stdout",
     "output_type": "stream",
     "text": [
      "Cosine Similarity: 0.880691583503541\n"
     ]
    }
   ],
   "source": [
    "# Compute cosine similarity between two vectors\n",
    "def cosine_similarity(vec1, vec2):\n",
    "    dot_product = np.dot(vec1, vec2)  # numerator: dot product\n",
    "    norm_vec1 = np.linalg.norm(vec1)  # magnitude of vec1\n",
    "    norm_vec2 = np.linalg.norm(vec2)  # magnitude of vec2\n",
    "    return dot_product / (norm_vec1 * norm_vec2)  # normalized cosine similarity\n",
    "\n",
    "similarity = cosine_similarity(query_result, document_result)  # compute similarity\n",
    "print(\"Cosine Similarity:\", similarity)  # print the score"
   ]
  },
  {
   "cell_type": "code",
   "execution_count": 6,
   "id": "87880e8d",
   "metadata": {},
   "outputs": [],
   "source": [
    "# Create a loader that fetches and parses the target web page\n",
    "loader = WebBaseLoader(\n",
    "    web_paths=(\"https://lilianweng.github.io/posts/2023-06-23-agent/\",),  # tuple of URLs to load\n",
    "    bs_kwargs=dict(  # pass BeautifulSoup-specific kwargs to limit parsing\n",
    "        parse_only=bs4.SoupStrainer(  # only parse these parts of the page to reduce noise\n",
    "            class_=(\"post-content\", \"post-title\", \"post-header\")\n",
    "        )\n",
    "    ),\n",
    ")\n",
    "\n",
    "# Fetch and return a list of Document objects\n",
    "docs = loader.load()  "
   ]
  },
  {
   "cell_type": "code",
   "execution_count": 7,
   "id": "4b054599",
   "metadata": {},
   "outputs": [],
   "source": [
    "# Split long documents into smaller overlapping chunks suitable for embeddings\n",
    "text_splitter = RecursiveCharacterTextSplitter(chunk_size=300, chunk_overlap=50)\n",
    "splits = text_splitter.split_documents(docs)  # list of smaller Document chunks\n",
    "\n",
    "# Create embeddings and store them in a vector DB (Chroma)\n",
    "vectorstore = Chroma.from_documents(documents=splits, \n",
    "                                    embedding=OpenAIEmbeddings())  # uses OpenAI embeddings under the hood\n",
    "\n",
    "# Create a retriever to fetch relevant docs (return the top 1 result)\n",
    "retriever = vectorstore.as_retriever(search_kwargs={\"k\": 1})"
   ]
  },
  {
   "cell_type": "code",
   "execution_count": 8,
   "id": "2976f7bc",
   "metadata": {},
   "outputs": [
    {
     "name": "stderr",
     "output_type": "stream",
     "text": [
      "/var/folders/2n/7qg7n4m55nn6p0lx1w8bgmqh0000gn/T/ipykernel_15142/4154592888.py:2: LangChainDeprecationWarning: The method `BaseRetriever.get_relevant_documents` was deprecated in langchain-core 0.1.46 and will be removed in 1.0. Use :meth:`~invoke` instead.\n",
      "  docs = retriever.get_relevant_documents(\"What is Task Decomposition?\")  # list[Document]\n"
     ]
    }
   ],
   "source": [
    "# Retrieve the most relevant documents for a question\n",
    "docs = retriever.get_relevant_documents(\"What is Task Decomposition?\")  # list[Document]"
   ]
  },
  {
   "cell_type": "code",
   "execution_count": 9,
   "id": "d6293b86",
   "metadata": {},
   "outputs": [
    {
     "name": "stdout",
     "output_type": "stream",
     "text": [
      "Answer the question based only on the following context:\n",
      "{context}\n",
      "\n",
      "Question: {question}\n",
      "\n"
     ]
    }
   ],
   "source": [
    "# build a simple template that restricts answers to the provided context\n",
    "template = \"\"\"Answer the question based only on the following context:\n",
    "{context}\n",
    "\n",
    "Question: {question}\n",
    "\"\"\"\n",
    "\n",
    "# create a prompt object from the template\n",
    "prompt = ChatPromptTemplate.from_template(template) \n",
    "\n",
    "# display the prompt object\n",
    "print(prompt.messages[0].prompt.template)"
   ]
  },
  {
   "cell_type": "code",
   "execution_count": 10,
   "id": "c1c78339",
   "metadata": {},
   "outputs": [
    {
     "name": "stdout",
     "output_type": "stream",
     "text": [
      "Task decomposition is the process of breaking down large tasks into smaller, manageable subgoals in order to efficiently handle complex tasks.\n"
     ]
    }
   ],
   "source": [
    "# Configure and run the chat model with the prompt\n",
    "llm = ChatOpenAI(model_name=\"gpt-3.5-turbo\", temperature=0)  # deterministic replies\n",
    "chain = prompt | llm  # compose prompt -> llm\n",
    "response = chain.invoke({\"context\":docs,\"question\":\"What is Task Decomposition?\"})  # run the chain\n",
    "print(response.content)"
   ]
  }
 ],
 "metadata": {
  "kernelspec": {
   "display_name": "Python 3",
   "language": "python",
   "name": "python3"
  },
  "language_info": {
   "codemirror_mode": {
    "name": "ipython",
    "version": 3
   },
   "file_extension": ".py",
   "mimetype": "text/x-python",
   "name": "python",
   "nbconvert_exporter": "python",
   "pygments_lexer": "ipython3",
   "version": "3.13.2"
  }
 },
 "nbformat": 4,
 "nbformat_minor": 5
}
