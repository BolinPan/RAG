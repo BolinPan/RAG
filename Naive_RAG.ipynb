{
 "cells": [
  {
   "cell_type": "markdown",
   "id": "209d276a",
   "metadata": {},
   "source": [
    "# Naive RAG (Retrieval-Augmented Generation) Demo\n",
    "\n",
    "This notebook provides a compact, step-by-step demonstration of a naive RAG pipeline for learning and testing purposes.\n",
    "It shows how to: load web content, split it into chunks, compute embeddings, store/retrieve vectors with Chroma, and run a small prompt + LLM chain to answer questions using retrieved context.\n",
    "\n",
    "## What this notebook contains\n",
    "- A tiny embedding similarity example (compute embeddings and cosine similarity).\n",
    "- A web loader example that fetches an article and splits it into chunks.\n",
    "- Building a Chroma vector store from embeddings and retrieving relevant chunks.\n",
    "- A simple prompt template and a ChatOpenAI LLM invocation to answer a question using the retrieved context.\n"
   ]
  },
  {
   "cell_type": "code",
   "execution_count": 1,
   "id": "a1a240d4",
   "metadata": {},
   "outputs": [
    {
     "name": "stderr",
     "output_type": "stream",
     "text": [
      "USER_AGENT environment variable not set, consider setting it to identify your requests.\n"
     ]
    }
   ],
   "source": [
    "from langchain import hub  \n",
    "from langchain.text_splitter import RecursiveCharacterTextSplitter  \n",
    "from langchain_community.document_loaders import WebBaseLoader  \n",
    "from langchain_community.vectorstores import Chroma  \n",
    "from langchain_core.output_parsers import StrOutputParser  \n",
    "from langchain_core.runnables import RunnablePassthrough  \n",
    "from langchain_openai import ChatOpenAI, OpenAIEmbeddings \n",
    "from langchain.prompts import ChatPromptTemplate\n",
    "import numpy as np\n",
    "import yaml\n",
    "import bs4  \n",
    "import os"
   ]
  },
  {
   "cell_type": "code",
   "execution_count": 2,
   "id": "090b5a21",
   "metadata": {},
   "outputs": [],
   "source": [
    "# Load credential from config file\n",
    "with open('configs/config.yaml', 'r') as file:\n",
    "    config = yaml.safe_load(file)\n",
    "\n",
    "# Set environment variables\n",
    "os.environ['LANGCHAIN_TRACING_V2'] = 'true'\n",
    "os.environ['LANGCHAIN_ENDPOINT'] = 'https://api.smith.langchain.com'\n",
    "os.environ['LANGCHAIN_API_KEY'] = config['API']['LANGCHAIN']\n",
    "os.environ['OPENAI_API_KEY'] = config['API']['OPENAI']"
   ]
  },
  {
   "cell_type": "markdown",
   "id": "d2528464",
   "metadata": {},
   "source": [
    "- A tiny embedding similarity example (compute embeddings and cosine similarity)."
   ]
  },
  {
   "cell_type": "code",
   "execution_count": 3,
   "id": "1ba3ec0e",
   "metadata": {},
   "outputs": [
    {
     "name": "stdout",
     "output_type": "stream",
     "text": [
      "Cosine Similarity: 0.880691583503541\n"
     ]
    }
   ],
   "source": [
    "# Example question and small document for naive similarity demo\n",
    "question = \"What kinds of pets do I like?\"  # user query\n",
    "document = \"My favorite pet is a cat.\"      # small text to compare against the query\n",
    "\n",
    "# Create an embeddings client and create embeddings for the query and document\n",
    "embd = OpenAIEmbeddings()  \n",
    "query_result = embd.embed_query(question)  \n",
    "document_result = embd.embed_query(document) \n",
    "len(query_result) \n",
    "\n",
    "# Compute cosine similarity between two vectors\n",
    "def cosine_similarity(vec1, vec2):\n",
    "    dot_product = np.dot(vec1, vec2)  # numerator: dot product\n",
    "    norm_vec1 = np.linalg.norm(vec1)  # magnitude of vec1\n",
    "    norm_vec2 = np.linalg.norm(vec2)  # magnitude of vec2\n",
    "    return dot_product / (norm_vec1 * norm_vec2)  # normalized cosine similarity\n",
    "\n",
    "similarity = cosine_similarity(query_result, document_result)  # compute similarity\n",
    "print(\"Cosine Similarity:\", similarity)  # print the score"
   ]
  },
  {
   "cell_type": "markdown",
   "id": "e82e2c9a",
   "metadata": {},
   "source": [
    "- Load and parse a target web article using `WebBaseLoader` and BeautifulSoup."
   ]
  },
  {
   "cell_type": "code",
   "execution_count": 4,
   "id": "8827d182",
   "metadata": {},
   "outputs": [],
   "source": [
    "# Create a loader that fetches and parses the target web page\n",
    "loader = WebBaseLoader(\n",
    "    web_paths=(\"https://lilianweng.github.io/posts/2023-06-23-agent/\",),  # tuple of URLs to load\n",
    "    bs_kwargs=dict(  # pass BeautifulSoup-specific kwargs to limit parsing\n",
    "        parse_only=bs4.SoupStrainer(  # only parse these parts of the page to reduce noise\n",
    "            class_=(\"post-content\", \"post-title\", \"post-header\")\n",
    "        )\n",
    "    ),\n",
    ")\n",
    "\n",
    "# Fetch and return a list of Document objects\n",
    "docs = loader.load()  "
   ]
  },
  {
   "cell_type": "markdown",
   "id": "16b60ffc",
   "metadata": {},
   "source": [
    "- Split long text into overlapping chunks with `RecursiveCharacterTextSplitter`.\n",
    "- Create embeddings for each chunk using `OpenAIEmbeddings` and store them in a `Chroma` vector store.\n",
    "- Build a retriever from the vector store to fetch context relevant to a query.\n",
    "\n",
    "\n"
   ]
  },
  {
   "cell_type": "code",
   "execution_count": 5,
   "id": "0248d225",
   "metadata": {},
   "outputs": [],
   "source": [
    "# Split long documents into smaller overlapping chunks suitable for embeddings\n",
    "text_splitter = RecursiveCharacterTextSplitter(chunk_size=300, chunk_overlap=50)\n",
    "splits = text_splitter.split_documents(docs)  # list of smaller Document chunks\n",
    "\n",
    "# Create embeddings and store them in a vector DB (Chroma)\n",
    "vectorstore = Chroma.from_documents(documents=splits, \n",
    "                                    embedding=OpenAIEmbeddings())  # uses OpenAI embeddings under the hood\n",
    "\n",
    "# Create a retriever to fetch relevant docs (return the top 1 result)\n",
    "retriever = vectorstore.as_retriever(search_kwargs={\"k\": 1})"
   ]
  },
  {
   "cell_type": "code",
   "execution_count": 6,
   "id": "6ac225ec",
   "metadata": {},
   "outputs": [
    {
     "name": "stdout",
     "output_type": "stream",
     "text": [
      "[Document(metadata={'source': 'https://lilianweng.github.io/posts/2023-06-23-agent/'}, page_content='Subgoal and decomposition: The agent breaks down large tasks into smaller, manageable subgoals, enabling efficient handling of complex tasks.')]\n"
     ]
    },
    {
     "name": "stderr",
     "output_type": "stream",
     "text": [
      "/var/folders/2n/7qg7n4m55nn6p0lx1w8bgmqh0000gn/T/ipykernel_19437/126105351.py:2: LangChainDeprecationWarning: The method `BaseRetriever.get_relevant_documents` was deprecated in langchain-core 0.1.46 and will be removed in 1.0. Use :meth:`~invoke` instead.\n",
      "  docs = retriever.get_relevant_documents(\"What is Task Decomposition?\")  # list[Document]\n"
     ]
    }
   ],
   "source": [
    "# Retrieve the most relevant documents for a question\n",
    "docs = retriever.get_relevant_documents(\"What is Task Decomposition?\")  # list[Document]\n",
    "print(docs)"
   ]
  },
  {
   "cell_type": "markdown",
   "id": "96622a76",
   "metadata": {},
   "source": [
    "- Build a prompt template that restricts answers to the provided context"
   ]
  },
  {
   "cell_type": "code",
   "execution_count": 7,
   "id": "1c9f2fc9",
   "metadata": {},
   "outputs": [
    {
     "name": "stdout",
     "output_type": "stream",
     "text": [
      "Answer the question based only on the following context:\n",
      "{context}\n",
      "\n",
      "Question: {question}\n",
      "\n"
     ]
    }
   ],
   "source": [
    "# Build a simple template that restricts answers to the provided context (alternative prebuilt prompt from hub.pull(\"rlm/rag-prompt\"))\n",
    "template = \"\"\"Answer the question based only on the following context:\n",
    "{context}\n",
    "\n",
    "Question: {question}\n",
    "\"\"\"\n",
    "\n",
    "# Create a prompt object from the template\n",
    "prompt = ChatPromptTemplate.from_template(template) \n",
    "\n",
    "# Display the prompt object\n",
    "print(prompt.messages[0].prompt.template)"
   ]
  },
  {
   "cell_type": "markdown",
   "id": "e74427b7",
   "metadata": {},
   "source": [
    "- Compose a small runnable chain: retriever -> prompt -> LLM -> output parser.\n",
    "- Demonstrate running the chain with a sample question."
   ]
  },
  {
   "cell_type": "code",
   "execution_count": 8,
   "id": "7427fc47",
   "metadata": {},
   "outputs": [
    {
     "data": {
      "text/plain": [
       "'Task decomposition is the process of breaking down large tasks into smaller, manageable subgoals in order to efficiently handle complex tasks.'"
      ]
     },
     "execution_count": 8,
     "metadata": {},
     "output_type": "execute_result"
    }
   ],
   "source": [
    "# Configure the chat LLM to use for generation\n",
    "llm = ChatOpenAI(model_name=\"gpt-3.5-turbo\", temperature=0)\n",
    "\n",
    "# Wire up retriever -> prompt -> llm -> parser as a runnable chain\n",
    "rag_chain = (\n",
    "    {\"context\": retriever, \"question\": RunnablePassthrough()}  # map inputs: context comes from retriever + formatter, question passes through\n",
    "    | prompt  # inject prompt template\n",
    "    | llm  # call the language model\n",
    "    | StrOutputParser()  # ensure final output is a plain string\n",
    ")\n",
    "\n",
    "# Run the chain with a test question (synchronous invocation)\n",
    "rag_chain.invoke(\"What is Task Decomposition?\")  # returns model output as a string"
   ]
  }
 ],
 "metadata": {
  "kernelspec": {
   "display_name": "Python 3",
   "language": "python",
   "name": "python3"
  },
  "language_info": {
   "codemirror_mode": {
    "name": "ipython",
    "version": 3
   },
   "file_extension": ".py",
   "mimetype": "text/x-python",
   "name": "python",
   "nbconvert_exporter": "python",
   "pygments_lexer": "ipython3",
   "version": "3.13.2"
  }
 },
 "nbformat": 4,
 "nbformat_minor": 5
}
