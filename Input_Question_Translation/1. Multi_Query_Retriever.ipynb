{
 "cells": [
  {
   "cell_type": "markdown",
   "id": "209d276a",
   "metadata": {},
   "source": [
    "# Multi-Query Retriever Demo\n",
    "\n",
    "Distance-based vector database retrieval embeds (represents) queries in high-dimensional space and finds similar embedded documents based on a distance metric. But, retrieval may produce different results with subtle changes in query wording, or if the embeddings do not capture the semantics of the data well. Prompt engineering / tuning is sometimes done to manually address these problems, but can be tedious.\n",
    "\n",
    "The MultiQueryRetriever automates the process of prompt tuning by using an LLM to generate multiple queries from different perspectives for a given user input query. For each query, it retrieves a set of relevant documents and takes the unique union across all queries to get a larger set of potentially relevant documents. By generating multiple perspectives on the same question, the MultiQueryRetriever can mitigate some of the limitations of the distance-based retrieval and get a richer set of results.\n",
    "\n",
    "## What this notebook contains\n",
    "- Generating multiple query variants from a single user question with a Chat LLM.\n",
    "- Retrieving documents for each variant using a vector store (Chroma) and OpenAI embeddings.\n",
    "- Deduplicating and unifying results across queries (unique union).\n",
    "- Building a simple RAG pipeline that answers a question using the combined context.\n",
    "\n",
    "## References\n",
    "https://python.langchain.com/docs/how_to/MultiQueryRetriever/\n"
   ]
  },
  {
   "cell_type": "code",
   "execution_count": 8,
   "id": "a1a240d4",
   "metadata": {},
   "outputs": [],
   "source": [
    "from langchain.text_splitter import RecursiveCharacterTextSplitter  \n",
    "from langchain_community.document_loaders import WebBaseLoader  \n",
    "from langchain_community.vectorstores import Chroma  \n",
    "from langchain_core.output_parsers import StrOutputParser  \n",
    "from langchain_core.runnables import RunnablePassthrough  \n",
    "from langchain_openai import ChatOpenAI, OpenAIEmbeddings \n",
    "from langchain.prompts import ChatPromptTemplate\n",
    "from langchain.load import dumps, loads\n",
    "from operator import itemgetter\n",
    "import yaml\n",
    "import bs4  \n",
    "import os"
   ]
  },
  {
   "cell_type": "code",
   "execution_count": 9,
   "id": "090b5a21",
   "metadata": {},
   "outputs": [],
   "source": [
    "# Get the current working directory\n",
    "cwd = os.getcwd()\n",
    "\n",
    "# Build the path to config.yaml\n",
    "config_path = os.path.join(cwd, '..', 'configs', 'config.yaml')\n",
    "\n",
    "# Normalize the path\n",
    "config_path = os.path.abspath(config_path)\n",
    "\n",
    "# Load credential from config file\n",
    "with open(config_path, 'r') as file:\n",
    "    config = yaml.safe_load(file)\n",
    "\n",
    "# Set environment variables\n",
    "os.environ['LANGCHAIN_TRACING_V2'] = 'true'\n",
    "os.environ['LANGCHAIN_ENDPOINT'] = 'https://api.smith.langchain.com'\n",
    "os.environ['LANGCHAIN_API_KEY'] = config['API']['LANGCHAIN']\n",
    "os.environ['OPENAI_API_KEY'] = config['API']['OPENAI']"
   ]
  },
  {
   "cell_type": "code",
   "execution_count": 10,
   "id": "8827d182",
   "metadata": {},
   "outputs": [],
   "source": [
    "# Create a loader that fetches and parses the target web page\n",
    "loader = WebBaseLoader(\n",
    "    web_paths=(\"https://lilianweng.github.io/posts/2023-06-23-agent/\",),  # tuple of URLs to load\n",
    "    bs_kwargs=dict(  # pass BeautifulSoup-specific kwargs to limit parsing\n",
    "        parse_only=bs4.SoupStrainer(  # only parse these parts of the page to reduce noise\n",
    "            class_=(\"post-content\", \"post-title\", \"post-header\")\n",
    "        )\n",
    "    ),\n",
    ")\n",
    "\n",
    "# Fetch and return a list of Document objects\n",
    "docs = loader.load()  \n",
    "\n",
    "# Split long documents into smaller overlapping chunks suitable for embeddings\n",
    "text_splitter = RecursiveCharacterTextSplitter(chunk_size=300, chunk_overlap=50)\n",
    "splits = text_splitter.split_documents(docs)  # list of smaller Document chunks\n",
    "\n",
    "# Create embeddings and store them in a vector DB (Chroma)\n",
    "vectorstore = Chroma.from_documents(documents=splits, \n",
    "                                    embedding=OpenAIEmbeddings())  # uses OpenAI embeddings under the hood\n",
    "\n",
    "# Create a retriever to fetch relevant docs (return the top 1 result)\n",
    "retriever = vectorstore.as_retriever(search_kwargs={\"k\": 2})"
   ]
  },
  {
   "cell_type": "code",
   "execution_count": null,
   "id": "1c9f2fc9",
   "metadata": {},
   "outputs": [],
   "source": [
    "# Ask an LLM to rephrase the question into multiple variants (generate mult-queries)\n",
    "template = \"\"\"You are a helpful assistant that generates multiple search queries based on a single input query. \\n\n",
    "Generate multiple search queries related to:  {question} \\n\n",
    "Output (5 queries):\n",
    "\"\"\"\n",
    "\n",
    "# Alternatively, a decomposition prompt can be used\n",
    "# template = \"\"\"You are a helpful assistant that generates multiple sub-questions related to an input question. \\n\n",
    "# The goal is to break down the input into a set of sub-problems / sub-questions that can be answers in isolation. \\n\n",
    "# Generate multiple search queries related to: {question} \\n\n",
    "# Output (3 queries):\"\"\"\n",
    "\n",
    "# Build the prompt object\n",
    "prompt_perspectives = ChatPromptTemplate.from_template(template)\n",
    "\n",
    "# Pipeline: prompt -> chat model -> parse -> split into separate queries\n",
    "generate_queries = (\n",
    "    prompt_perspectives \n",
    "    | ChatOpenAI(temperature=0) \n",
    "    | StrOutputParser() \n",
    "    | (lambda x: x.split(\"\\n\"))  # split on newlines into a list\n",
    ")"
   ]
  },
  {
   "cell_type": "code",
   "execution_count": 12,
   "id": "dd4b9465",
   "metadata": {},
   "outputs": [
    {
     "data": {
      "text/plain": [
       "['1. How do LLM agents use task decomposition in problem-solving?',\n",
       " '2. Benefits of task decomposition for LLM agents in artificial intelligence.',\n",
       " '3. Examples of task decomposition techniques used by LLM agents.',\n",
       " '4. Challenges of implementing task decomposition for LLM agents.',\n",
       " '5. Comparison of task decomposition approaches for LLM agents in different AI systems.']"
      ]
     },
     "metadata": {},
     "output_type": "display_data"
    }
   ],
   "source": [
    "# Example input question\n",
    "question = \"What is task decomposition for LLM agents?\"\n",
    "\n",
    "# Generate multiple query variants\n",
    "result = generate_queries.invoke({\"question\":question})  \n",
    "\n",
    "# Display the generated variants\n",
    "display(result)"
   ]
  },
  {
   "cell_type": "code",
   "execution_count": 13,
   "id": "7427fc47",
   "metadata": {},
   "outputs": [
    {
     "data": {
      "text/plain": [
       "[Document(metadata={'source': 'https://lilianweng.github.io/posts/2023-06-23-agent/'}, page_content='Subgoal and decomposition: The agent breaks down large tasks into smaller, manageable subgoals, enabling efficient handling of complex tasks.'),\n",
       " Document(metadata={'source': 'https://lilianweng.github.io/posts/2023-06-23-agent/'}, page_content='}\\n]\\nChallenges#\\nAfter going through key ideas and demos of building LLM-centered agents, I start to see a couple common limitations:'),\n",
       " Document(metadata={'source': 'https://lilianweng.github.io/posts/2023-06-23-agent/'}, page_content='The system comprises of 4 stages:\\n(1) Task planning: LLM works as the brain and parses the user requests into multiple tasks. There are four attributes associated with each task: task type, ID, dependencies, and arguments. They use few-shot examples to guide LLM to do task parsing and planning.')]"
      ]
     },
     "metadata": {},
     "output_type": "display_data"
    }
   ],
   "source": [
    "# Deduplicate retrieved documents (only keep the unique documents across all the retrieved documents)\n",
    "def get_unique_union(documents: list[list]):  \n",
    "    \"\"\" Unique union of retrieved docs \"\"\"\n",
    "    # Flatten list of lists and serialize each Document for deduplication\n",
    "    flattened_docs = [dumps(doc) for sublist in documents for doc in sublist]\n",
    "    # Use a set to deduplicate serialized documents\n",
    "    unique_docs = list(set(flattened_docs))\n",
    "    # Deserialize unique documents and return them\n",
    "    return [loads(doc) for doc in unique_docs]\n",
    "\n",
    "# Compose the multi-query retrieval pipeline and run it (generate -> retrieve -> dedupe)\n",
    "retrieval_chain = generate_queries | retriever.map() | get_unique_union \n",
    "\n",
    "# Retrieve unique docs\n",
    "docs = retrieval_chain.invoke({\"question\":question}) \n",
    "\n",
    "# Show unique retrieved documents\n",
    "display(docs)"
   ]
  },
  {
   "cell_type": "code",
   "execution_count": 14,
   "id": "901023b6",
   "metadata": {},
   "outputs": [
    {
     "data": {
      "text/plain": [
       "'Task decomposition for LLM agents involves breaking down large tasks into smaller, manageable subgoals, enabling efficient handling of complex tasks. This process allows the agent to parse user requests into multiple tasks with attributes such as task type, ID, dependencies, and arguments, using few-shot examples to guide the LLM in task parsing and planning.'"
      ]
     },
     "execution_count": 14,
     "metadata": {},
     "output_type": "execute_result"
    }
   ],
   "source": [
    "# RAG - build and run final chain that answers the question using retrieved context\n",
    "template = \"\"\"Answer the following question based on this context:\n",
    "\n",
    "{context}\n",
    "\n",
    "Question: {question}\n",
    "\"\"\"\n",
    "\n",
    "# Build the prompt object\n",
    "prompt = ChatPromptTemplate.from_template(template)\n",
    "\n",
    "# Configure chat LLM (deterministic)\n",
    "llm = ChatOpenAI(temperature=0) \n",
    "\n",
    "# Compose pipeline: retrieval_chain -> prompt -> llm -> parse\n",
    "final_rag_chain = (\n",
    "    {\"context\": retrieval_chain, \n",
    "     \"question\": itemgetter(\"question\")} \n",
    "    | prompt\n",
    "    | llm\n",
    "    | StrOutputParser()  # parse final output to string\n",
    ")\n",
    "\n",
    "# Execute the chain and get the answer\n",
    "final_rag_chain.invoke({\"question\":question})"
   ]
  }
 ],
 "metadata": {
  "kernelspec": {
   "display_name": "Python 3",
   "language": "python",
   "name": "python3"
  },
  "language_info": {
   "codemirror_mode": {
    "name": "ipython",
    "version": 3
   },
   "file_extension": ".py",
   "mimetype": "text/x-python",
   "name": "python",
   "nbconvert_exporter": "python",
   "pygments_lexer": "ipython3",
   "version": "3.13.2"
  }
 },
 "nbformat": 4,
 "nbformat_minor": 5
}
